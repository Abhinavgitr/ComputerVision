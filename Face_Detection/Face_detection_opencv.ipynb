{
 "cells": [
  {
   "cell_type": "code",
   "execution_count": 1,
   "id": "37e8791f",
   "metadata": {},
   "outputs": [
    {
     "name": "stdout",
     "output_type": "stream",
     "text": [
      "Requirement already satisfied: opencv-python in c:\\users\\st276\\anaconda3\\lib\\site-packages (4.7.0.72)\n",
      "Requirement already satisfied: numpy>=1.17.0 in c:\\users\\st276\\anaconda3\\lib\\site-packages (from opencv-python) (1.22.4)\n",
      "Note: you may need to restart the kernel to use updated packages.\n"
     ]
    }
   ],
   "source": [
    "pip install opencv-python"
   ]
  },
  {
   "cell_type": "code",
   "execution_count": 2,
   "id": "5ebbd91f",
   "metadata": {},
   "outputs": [],
   "source": [
    "import numpy as np\n",
    "import cv2"
   ]
  },
  {
   "cell_type": "code",
   "execution_count": 4,
   "id": "4aee4a53",
   "metadata": {},
   "outputs": [],
   "source": [
    "#path\n",
    "video_path = r\"C:\\Users\\st276\\Desktop\\important\\ComputerVision\\Face_detection_opencv\\video\\Sekiro 2020-03-25 16-43-39.mp4\"\n",
    "\n",
    "#video capturing.\n",
    "#cap = cv2.VideoCapture(0) --- for face detection via camera\n",
    "cap = cv2.VideoCapture(video_path)\n",
    "\n",
    "#get the harrcascade model.\n",
    "face_cascade = cv2.CascadeClassifier(r\"C:\\Users\\st276\\Desktop\\important\\ComputerVision\\Face_detection_opencv\\haarcascade models\\haarcascade_frontalface_default.xml\")\n",
    "\n",
    "while cap.isOpened():\n",
    "    #get the frames.\n",
    "    ret, frame = cap.read()\n",
    "    \n",
    "    #check condition\n",
    "    if not ret:\n",
    "        break\n",
    "    \n",
    "    #resize the image\n",
    "    img = cv2.resize(frame, (1280,720))\n",
    "    \n",
    "    #Get the face coordinates.\n",
    "    face_rect = face_cascade.detectMultiScale(img)\n",
    "    \n",
    "    #create rectangle around the face.\n",
    "    for (x,y,w,h) in face_rect:\n",
    "        cv2.rectangle(img, (x,y), (x+w, y+h), color=(0, 255, 0), thickness=3)\n",
    "    \n",
    "    #show the image.\n",
    "    cv2.imshow(\"Face_detection\", img)\n",
    "    \n",
    "    if cv2.waitKey(1) & 0xff==ord(\"q\"):\n",
    "        break\n",
    "\n",
    "cap.release()\n",
    "cv2.destroyAllWindows()"
   ]
  },
  {
   "cell_type": "markdown",
   "id": "8f1ea560",
   "metadata": {},
   "source": [
    "## Face detection for any Image."
   ]
  },
  {
   "cell_type": "code",
   "execution_count": 5,
   "id": "470b324b",
   "metadata": {},
   "outputs": [],
   "source": [
    "def face_detect(frame):\n",
    "    img = cv2.resize(frame, (600,400))\n",
    "    face_rect = face_cascade.detectMultiScale(img)\n",
    "    for (x,y,w,h) in face_rect:\n",
    "        cv2.rectangle(img, (x,y), (x+w, y+h), color=(0, 255, 0), thickness=3)\n",
    "    cv2.imshow(\"Face_detection\", img)\n",
    "    cv2.waitKey(0)\n",
    "    cv2.destroyAllWindows()"
   ]
  },
  {
   "cell_type": "code",
   "execution_count": 7,
   "id": "f6495dd1",
   "metadata": {},
   "outputs": [],
   "source": [
    "image_path = r\"C:\\Users\\st276\\Desktop\\important\\ComputerVision\\Face_detection_opencv\\video\\WIN_20200705_18_16_46_Pro.jpg\"\n",
    "image = cv2.imread(image_path)\n",
    "face_detect(image)"
   ]
  },
  {
   "cell_type": "code",
   "execution_count": null,
   "id": "4b5e02aa",
   "metadata": {},
   "outputs": [],
   "source": []
  }
 ],
 "metadata": {
  "kernelspec": {
   "display_name": "Python 3",
   "language": "python",
   "name": "python3"
  },
  "language_info": {
   "codemirror_mode": {
    "name": "ipython",
    "version": 3
   },
   "file_extension": ".py",
   "mimetype": "text/x-python",
   "name": "python",
   "nbconvert_exporter": "python",
   "pygments_lexer": "ipython3",
   "version": "3.8.8"
  }
 },
 "nbformat": 4,
 "nbformat_minor": 5
}
